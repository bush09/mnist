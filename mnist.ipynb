{
 "cells": [
  {
   "cell_type": "code",
   "execution_count": 1,
   "metadata": {},
   "outputs": [
    {
     "name": "stderr",
     "output_type": "stream",
     "text": [
      "Using TensorFlow backend.\n"
     ]
    }
   ],
   "source": [
    "import numpy\n",
    "from keras.models import Sequential\n",
    "from keras.layers import Dense\n",
    "from keras.utils import np_utils\n",
    "import tensorflow as tf\n",
    " \n",
    "import keras"
   ]
  },
  {
   "cell_type": "code",
   "execution_count": 2,
   "metadata": {},
   "outputs": [],
   "source": [
    "numpy.random.seed(42)\n",
    " \n",
    "(X_train, y_train), (X_test, y_test) = keras.datasets.mnist.load_data()\n"
   ]
  },
  {
   "cell_type": "code",
   "execution_count": 3,
   "metadata": {},
   "outputs": [],
   "source": [
    "X_train = X_train.reshape(60000, 784)\n",
    "X_train = X_train.astype('float32')\n",
    "X_train /= 255\n",
    "\n",
    "y_train = np_utils.to_categorical(y_train, 10)"
   ]
  },
  {
   "cell_type": "code",
   "execution_count": 4,
   "metadata": {},
   "outputs": [],
   "source": [
    "model = Sequential()\n"
   ]
  },
  {
   "cell_type": "code",
   "execution_count": 5,
   "metadata": {},
   "outputs": [
    {
     "name": "stderr",
     "output_type": "stream",
     "text": [
      "/home/natalya/anaconda3/lib/python3.6/site-packages/ipykernel_launcher.py:1: UserWarning: Update your `Dense` call to the Keras 2 API: `Dense(800, input_dim=784, activation=\"relu\", kernel_initializer=\"normal\")`\n",
      "  \"\"\"Entry point for launching an IPython kernel.\n"
     ]
    }
   ],
   "source": [
    "model.add(Dense(800, input_dim = 784, init = \"normal\", activation = \"relu\"))\n",
    "\n"
   ]
  },
  {
   "cell_type": "code",
   "execution_count": 6,
   "metadata": {},
   "outputs": [
    {
     "name": "stderr",
     "output_type": "stream",
     "text": [
      "/home/natalya/anaconda3/lib/python3.6/site-packages/ipykernel_launcher.py:2: UserWarning: Update your `Dense` call to the Keras 2 API: `Dense(10, activation=\"softmax\", kernel_initializer=\"normal\")`\n",
      "  \n"
     ]
    }
   ],
   "source": [
    "\n",
    "model.add(Dense(10, init=\"normal\", activation=\"softmax\"))\n",
    "\n",
    "\n"
   ]
  },
  {
   "cell_type": "code",
   "execution_count": 7,
   "metadata": {},
   "outputs": [
    {
     "data": {
      "text/plain": [
       "'2.2.4'"
      ]
     },
     "execution_count": 7,
     "metadata": {},
     "output_type": "execute_result"
    }
   ],
   "source": [
    "keras.__version__\n"
   ]
  },
  {
   "cell_type": "code",
   "execution_count": 8,
   "metadata": {},
   "outputs": [
    {
     "data": {
      "text/plain": [
       "'1.10.0'"
      ]
     },
     "execution_count": 8,
     "metadata": {},
     "output_type": "execute_result"
    }
   ],
   "source": [
    "tf.__version__\n"
   ]
  },
  {
   "cell_type": "code",
   "execution_count": 9,
   "metadata": {},
   "outputs": [],
   "source": [
    "model.compile(loss=\"categorical_crossentropy\", optimizer=\"SGD\", metrics=[\"accuracy\"])"
   ]
  },
  {
   "cell_type": "code",
   "execution_count": 10,
   "metadata": {},
   "outputs": [
    {
     "name": "stdout",
     "output_type": "stream",
     "text": [
      "_________________________________________________________________\n",
      "Layer (type)                 Output Shape              Param #   \n",
      "=================================================================\n",
      "dense_1 (Dense)              (None, 800)               628000    \n",
      "_________________________________________________________________\n",
      "dense_2 (Dense)              (None, 10)                8010      \n",
      "=================================================================\n",
      "Total params: 636,010\n",
      "Trainable params: 636,010\n",
      "Non-trainable params: 0\n",
      "_________________________________________________________________\n",
      "None\n"
     ]
    }
   ],
   "source": [
    "print(model.summary())"
   ]
  },
  {
   "cell_type": "code",
   "execution_count": 11,
   "metadata": {},
   "outputs": [
    {
     "name": "stderr",
     "output_type": "stream",
     "text": [
      "/home/natalya/anaconda3/lib/python3.6/site-packages/ipykernel_launcher.py:1: UserWarning: The `nb_epoch` argument in `fit` has been renamed `epochs`.\n",
      "  \"\"\"Entry point for launching an IPython kernel.\n"
     ]
    },
    {
     "name": "stdout",
     "output_type": "stream",
     "text": [
      "Epoch 1/100\n",
      "60000/60000 [==============================] - 6s 93us/step - loss: 1.2037 - acc: 0.7260\n",
      "Epoch 2/100\n",
      "60000/60000 [==============================] - 5s 91us/step - loss: 0.5962 - acc: 0.8620\n",
      "Epoch 3/100\n",
      "60000/60000 [==============================] - 5s 91us/step - loss: 0.4728 - acc: 0.8807\n",
      "Epoch 4/100\n",
      "60000/60000 [==============================] - 5s 91us/step - loss: 0.4165 - acc: 0.8910\n",
      "Epoch 5/100\n",
      "60000/60000 [==============================] - 6s 92us/step - loss: 0.3826 - acc: 0.8980\n",
      "Epoch 6/100\n",
      "60000/60000 [==============================] - 6s 92us/step - loss: 0.3593 - acc: 0.9027\n",
      "Epoch 7/100\n",
      "60000/60000 [==============================] - 6s 94us/step - loss: 0.3418 - acc: 0.9062\n",
      "Epoch 8/100\n",
      "60000/60000 [==============================] - 6s 93us/step - loss: 0.3279 - acc: 0.9096\n",
      "Epoch 9/100\n",
      "60000/60000 [==============================] - 6s 93us/step - loss: 0.3162 - acc: 0.9122\n",
      "Epoch 10/100\n",
      "60000/60000 [==============================] - 6s 92us/step - loss: 0.3062 - acc: 0.9155\n",
      "Epoch 11/100\n",
      "60000/60000 [==============================] - 6s 92us/step - loss: 0.2974 - acc: 0.9179\n",
      "Epoch 12/100\n",
      "60000/60000 [==============================] - 6s 93us/step - loss: 0.2895 - acc: 0.9200\n",
      "Epoch 13/100\n",
      "60000/60000 [==============================] - 6s 94us/step - loss: 0.2824 - acc: 0.9221\n",
      "Epoch 14/100\n",
      "60000/60000 [==============================] - 6s 93us/step - loss: 0.2758 - acc: 0.9243\n",
      "Epoch 15/100\n",
      "60000/60000 [==============================] - 6s 93us/step - loss: 0.2697 - acc: 0.9259\n",
      "Epoch 16/100\n",
      "60000/60000 [==============================] - 6s 95us/step - loss: 0.2642 - acc: 0.9275\n",
      "Epoch 17/100\n",
      "60000/60000 [==============================] - 6s 94us/step - loss: 0.2588 - acc: 0.9290\n",
      "Epoch 18/100\n",
      "60000/60000 [==============================] - 6s 94us/step - loss: 0.2538 - acc: 0.9299\n",
      "Epoch 19/100\n",
      "60000/60000 [==============================] - 6s 94us/step - loss: 0.2490 - acc: 0.9312\n",
      "Epoch 20/100\n",
      "60000/60000 [==============================] - 6s 95us/step - loss: 0.2444 - acc: 0.9322\n",
      "Epoch 21/100\n",
      "60000/60000 [==============================] - 6s 98us/step - loss: 0.2401 - acc: 0.9339\n",
      "Epoch 22/100\n",
      "60000/60000 [==============================] - 6s 94us/step - loss: 0.2360 - acc: 0.9345\n",
      "Epoch 23/100\n",
      "60000/60000 [==============================] - 6s 95us/step - loss: 0.2320 - acc: 0.9362\n",
      "Epoch 24/100\n",
      "60000/60000 [==============================] - 6s 93us/step - loss: 0.2282 - acc: 0.9368\n",
      "Epoch 25/100\n",
      "60000/60000 [==============================] - 6s 94us/step - loss: 0.2245 - acc: 0.9380\n",
      "Epoch 26/100\n",
      "60000/60000 [==============================] - 6s 94us/step - loss: 0.2209 - acc: 0.9391\n",
      "Epoch 27/100\n",
      "60000/60000 [==============================] - 6s 94us/step - loss: 0.2176 - acc: 0.9398\n",
      "Epoch 28/100\n",
      "60000/60000 [==============================] - 6s 95us/step - loss: 0.2143 - acc: 0.9413\n",
      "Epoch 29/100\n",
      "60000/60000 [==============================] - 6s 96us/step - loss: 0.2110 - acc: 0.9417\n",
      "Epoch 30/100\n",
      "60000/60000 [==============================] - 6s 95us/step - loss: 0.2079 - acc: 0.9422\n",
      "Epoch 31/100\n",
      "60000/60000 [==============================] - 6s 94us/step - loss: 0.2049 - acc: 0.9434\n",
      "Epoch 32/100\n",
      "60000/60000 [==============================] - 6s 94us/step - loss: 0.2020 - acc: 0.9442\n",
      "Epoch 33/100\n",
      "60000/60000 [==============================] - 6s 95us/step - loss: 0.1992 - acc: 0.9451\n",
      "Epoch 34/100\n",
      "60000/60000 [==============================] - 6s 95us/step - loss: 0.1964 - acc: 0.9457\n",
      "Epoch 35/100\n",
      "60000/60000 [==============================] - 6s 95us/step - loss: 0.1937 - acc: 0.9467\n",
      "Epoch 36/100\n",
      "60000/60000 [==============================] - 6s 96us/step - loss: 0.1912 - acc: 0.9473\n",
      "Epoch 37/100\n",
      "60000/60000 [==============================] - 6s 96us/step - loss: 0.1886 - acc: 0.9481\n",
      "Epoch 38/100\n",
      "60000/60000 [==============================] - 6s 96us/step - loss: 0.1861 - acc: 0.9485\n",
      "Epoch 39/100\n",
      "60000/60000 [==============================] - 6s 95us/step - loss: 0.1837 - acc: 0.9495\n",
      "Epoch 40/100\n",
      "60000/60000 [==============================] - 6s 95us/step - loss: 0.1814 - acc: 0.9499\n",
      "Epoch 41/100\n",
      "60000/60000 [==============================] - 6s 95us/step - loss: 0.1791 - acc: 0.9507\n",
      "Epoch 42/100\n",
      "60000/60000 [==============================] - 6s 94us/step - loss: 0.1768 - acc: 0.9510\n",
      "Epoch 43/100\n",
      "60000/60000 [==============================] - 6s 95us/step - loss: 0.1746 - acc: 0.9516\n",
      "Epoch 44/100\n",
      "60000/60000 [==============================] - 6s 97us/step - loss: 0.1725 - acc: 0.9526\n",
      "Epoch 45/100\n",
      "60000/60000 [==============================] - 6s 101us/step - loss: 0.1704 - acc: 0.9531\n",
      "Epoch 46/100\n",
      "60000/60000 [==============================] - 6s 94us/step - loss: 0.1685 - acc: 0.9535\n",
      "Epoch 47/100\n",
      "60000/60000 [==============================] - 6s 95us/step - loss: 0.1665 - acc: 0.9541\n",
      "Epoch 48/100\n",
      "60000/60000 [==============================] - 6s 95us/step - loss: 0.1645 - acc: 0.9546\n",
      "Epoch 49/100\n",
      "60000/60000 [==============================] - 6s 97us/step - loss: 0.1626 - acc: 0.9551\n",
      "Epoch 50/100\n",
      "60000/60000 [==============================] - 6s 98us/step - loss: 0.1607 - acc: 0.9553\n",
      "Epoch 51/100\n",
      "60000/60000 [==============================] - 6s 98us/step - loss: 0.1590 - acc: 0.9560\n",
      "Epoch 52/100\n",
      "60000/60000 [==============================] - 6s 97us/step - loss: 0.1573 - acc: 0.9567\n",
      "Epoch 53/100\n",
      "60000/60000 [==============================] - 6s 97us/step - loss: 0.1555 - acc: 0.9570\n",
      "Epoch 54/100\n",
      "60000/60000 [==============================] - 6s 99us/step - loss: 0.1538 - acc: 0.9578\n",
      "Epoch 55/100\n",
      "60000/60000 [==============================] - 6s 98us/step - loss: 0.1521 - acc: 0.9581\n",
      "Epoch 56/100\n",
      "60000/60000 [==============================] - 6s 97us/step - loss: 0.1505 - acc: 0.9583\n",
      "Epoch 57/100\n",
      "60000/60000 [==============================] - 6s 98us/step - loss: 0.1489 - acc: 0.9587\n",
      "Epoch 58/100\n",
      "60000/60000 [==============================] - 6s 99us/step - loss: 0.1474 - acc: 0.9594\n",
      "Epoch 59/100\n",
      "60000/60000 [==============================] - 6s 98us/step - loss: 0.1459 - acc: 0.9597\n",
      "Epoch 60/100\n",
      "60000/60000 [==============================] - 6s 98us/step - loss: 0.1444 - acc: 0.9600\n",
      "Epoch 61/100\n",
      "60000/60000 [==============================] - 6s 98us/step - loss: 0.1429 - acc: 0.9604\n",
      "Epoch 62/100\n",
      "60000/60000 [==============================] - 6s 97us/step - loss: 0.1415 - acc: 0.9612\n",
      "Epoch 63/100\n",
      "60000/60000 [==============================] - 6s 98us/step - loss: 0.1401 - acc: 0.9614\n",
      "Epoch 64/100\n",
      "60000/60000 [==============================] - 6s 99us/step - loss: 0.1387 - acc: 0.9621\n",
      "Epoch 65/100\n",
      "60000/60000 [==============================] - 6s 98us/step - loss: 0.1373 - acc: 0.9626\n",
      "Epoch 66/100\n",
      "60000/60000 [==============================] - 6s 101us/step - loss: 0.1360 - acc: 0.9627\n",
      "Epoch 67/100\n",
      "60000/60000 [==============================] - 6s 98us/step - loss: 0.1346 - acc: 0.9630\n",
      "Epoch 68/100\n",
      "60000/60000 [==============================] - 6s 98us/step - loss: 0.1334 - acc: 0.9634\n",
      "Epoch 69/100\n",
      "60000/60000 [==============================] - 6s 98us/step - loss: 0.1321 - acc: 0.9638\n",
      "Epoch 70/100\n",
      "60000/60000 [==============================] - 6s 98us/step - loss: 0.1309 - acc: 0.9645\n",
      "Epoch 71/100\n",
      "60000/60000 [==============================] - 6s 98us/step - loss: 0.1296 - acc: 0.9650\n",
      "Epoch 72/100\n",
      "60000/60000 [==============================] - 6s 98us/step - loss: 0.1285 - acc: 0.9651\n",
      "Epoch 73/100\n",
      "60000/60000 [==============================] - 6s 101us/step - loss: 0.1273 - acc: 0.9656\n",
      "Epoch 74/100\n",
      "60000/60000 [==============================] - 6s 100us/step - loss: 0.1262 - acc: 0.9660\n",
      "Epoch 75/100\n",
      "60000/60000 [==============================] - 6s 101us/step - loss: 0.1251 - acc: 0.9660\n",
      "Epoch 76/100\n",
      "60000/60000 [==============================] - 6s 100us/step - loss: 0.1239 - acc: 0.9667\n",
      "Epoch 77/100\n",
      "60000/60000 [==============================] - 6s 100us/step - loss: 0.1229 - acc: 0.9671\n",
      "Epoch 78/100\n",
      "60000/60000 [==============================] - 6s 99us/step - loss: 0.1218 - acc: 0.9673\n",
      "Epoch 79/100\n",
      "60000/60000 [==============================] - 6s 99us/step - loss: 0.1207 - acc: 0.9677\n",
      "Epoch 80/100\n",
      "60000/60000 [==============================] - 6s 100us/step - loss: 0.1197 - acc: 0.9677\n",
      "Epoch 81/100\n"
     ]
    },
    {
     "name": "stdout",
     "output_type": "stream",
     "text": [
      "60000/60000 [==============================] - 5s 91us/step - loss: 0.1186 - acc: 0.9683\n",
      "Epoch 82/100\n",
      "60000/60000 [==============================] - 5s 92us/step - loss: 0.1176 - acc: 0.9684\n",
      "Epoch 83/100\n",
      "60000/60000 [==============================] - 5s 92us/step - loss: 0.1166 - acc: 0.9685\n",
      "Epoch 84/100\n",
      "60000/60000 [==============================] - 5s 91us/step - loss: 0.1157 - acc: 0.9690\n",
      "Epoch 85/100\n",
      "60000/60000 [==============================] - 5s 91us/step - loss: 0.1147 - acc: 0.9694\n",
      "Epoch 86/100\n",
      "60000/60000 [==============================] - 5s 91us/step - loss: 0.1137 - acc: 0.9694\n",
      "Epoch 87/100\n",
      "60000/60000 [==============================] - 5s 89us/step - loss: 0.1128 - acc: 0.9695\n",
      "Epoch 88/100\n",
      "60000/60000 [==============================] - 5s 89us/step - loss: 0.1119 - acc: 0.9699\n",
      "Epoch 89/100\n",
      "60000/60000 [==============================] - 5s 90us/step - loss: 0.1110 - acc: 0.9702\n",
      "Epoch 90/100\n",
      "60000/60000 [==============================] - 5s 90us/step - loss: 0.1101 - acc: 0.9706\n",
      "Epoch 91/100\n",
      "60000/60000 [==============================] - 5s 91us/step - loss: 0.1092 - acc: 0.9707\n",
      "Epoch 92/100\n",
      "60000/60000 [==============================] - 5s 91us/step - loss: 0.1084 - acc: 0.9708\n",
      "Epoch 93/100\n",
      "60000/60000 [==============================] - 5s 90us/step - loss: 0.1075 - acc: 0.9712\n",
      "Epoch 94/100\n",
      "60000/60000 [==============================] - 5s 90us/step - loss: 0.1067 - acc: 0.9716\n",
      "Epoch 95/100\n",
      "60000/60000 [==============================] - 5s 90us/step - loss: 0.1058 - acc: 0.9718\n",
      "Epoch 96/100\n",
      "60000/60000 [==============================] - 6s 94us/step - loss: 0.1050 - acc: 0.9720\n",
      "Epoch 97/100\n",
      "60000/60000 [==============================] - 6s 96us/step - loss: 0.1042 - acc: 0.9724\n",
      "Epoch 98/100\n",
      "60000/60000 [==============================] - 6s 95us/step - loss: 0.1034 - acc: 0.9724\n",
      "Epoch 99/100\n",
      "60000/60000 [==============================] - 6s 96us/step - loss: 0.1026 - acc: 0.9727\n",
      "Epoch 100/100\n",
      "60000/60000 [==============================] - 6s 95us/step - loss: 0.1018 - acc: 0.9730\n"
     ]
    },
    {
     "data": {
      "text/plain": [
       "<keras.callbacks.History at 0x7fcb0dd1e320>"
      ]
     },
     "execution_count": 11,
     "metadata": {},
     "output_type": "execute_result"
    }
   ],
   "source": [
    "model.fit(X_train, y_train, batch_size=200, nb_epoch=100, verbose=1)\n"
   ]
  },
  {
   "cell_type": "code",
   "execution_count": 13,
   "metadata": {},
   "outputs": [],
   "source": [
    "predictions = model.predict(X_train)\n",
    "\n"
   ]
  },
  {
   "cell_type": "code",
   "execution_count": 14,
   "metadata": {},
   "outputs": [
    {
     "data": {
      "text/plain": [
       "array([6.8084237e-06, 6.0998605e-06, 2.6102032e-04, 1.0871841e-02,\n",
       "       3.5629930e-09, 9.8881578e-01, 3.1163762e-07, 2.7594480e-05,\n",
       "       3.0337649e-06, 7.4352238e-06], dtype=float32)"
      ]
     },
     "execution_count": 14,
     "metadata": {},
     "output_type": "execute_result"
    }
   ],
   "source": [
    "predictions[0]"
   ]
  },
  {
   "cell_type": "code",
   "execution_count": 15,
   "metadata": {},
   "outputs": [],
   "source": [
    "result = predictions.argmax(axis=1)"
   ]
  },
  {
   "cell_type": "code",
   "execution_count": 16,
   "metadata": {},
   "outputs": [
    {
     "data": {
      "text/plain": [
       "array([5, 0, 4, ..., 5, 6, 8])"
      ]
     },
     "execution_count": 16,
     "metadata": {},
     "output_type": "execute_result"
    }
   ],
   "source": [
    "result"
   ]
  },
  {
   "cell_type": "code",
   "execution_count": 17,
   "metadata": {},
   "outputs": [
    {
     "data": {
      "text/plain": [
       "array([5, 0, 4, ..., 5, 6, 8])"
      ]
     },
     "execution_count": 17,
     "metadata": {},
     "output_type": "execute_result"
    }
   ],
   "source": [
    "y_train.argmax(axis=1)"
   ]
  },
  {
   "cell_type": "code",
   "execution_count": null,
   "metadata": {},
   "outputs": [],
   "source": []
  }
 ],
 "metadata": {
  "kernelspec": {
   "display_name": "Python 3",
   "language": "python",
   "name": "python3"
  },
  "language_info": {
   "codemirror_mode": {
    "name": "ipython",
    "version": 3
   },
   "file_extension": ".py",
   "mimetype": "text/x-python",
   "name": "python",
   "nbconvert_exporter": "python",
   "pygments_lexer": "ipython3",
   "version": "3.6.8"
  }
 },
 "nbformat": 4,
 "nbformat_minor": 2
}
